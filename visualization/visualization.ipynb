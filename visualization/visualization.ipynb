{
 "cells": [
  {
   "cell_type": "markdown",
   "metadata": {},
   "source": [
    "# Visualization"
   ]
  },
  {
   "cell_type": "markdown",
   "metadata": {},
   "source": [
    "Visualization is a crucial aspect of data analysis and representation, allowing for clear communication and understanding of data-driven insights. Python, being one of the leading programming languages for data science, boasts a rich ecosystem of libraries to cater to diverse visualization needs. Among the most prominent are Matplotlib, Seaborn, and Plotly.\n",
    "\n",
    "**Matplotlib**:\n",
    "\n",
    "- **Overview**: Matplotlib is the grandfather of Python visualization libraries and serves as the foundation for many other libraries, including Seaborn. It provides an object-oriented API for embedding plots into applications and offers a wide range of static, animated, and interactive plots.\n",
    "- **Pros**:\n",
    "  - Highly customizable.\n",
    "  - Wide range of plotting options.\n",
    "  - Good integration with Python's scientific stack, including NumPy and Pandas.\n",
    "- **Cons**:\n",
    "  - Can be verbose for simple tasks.\n",
    "  - Steeper learning curve for beginners.\n",
    "  - Default aesthetics may seem dated, requiring extra effort to make plots look modern.\n",
    "\n",
    "**Seaborn**:\n",
    "\n",
    "- **Overview**: Seaborn is built on top of Matplotlib and offers a higher-level interface for creating beautifully styled statistical plots. It integrates closely with Pandas data structures, making it a popular choice for exploratory data analysis.\n",
    "- **Pros**:\n",
    "  - Simplified syntax compared to Matplotlib for similar tasks.\n",
    "  - Built-in support for complex statistical plots.\n",
    "  - Better default aesthetics and themes.\n",
    "- **Cons**:\n",
    "  - Less customizable compared to Matplotlib.\n",
    "  - While it covers a broad range of plot types, some niche plots might still require falling back to Matplotlib.\n",
    "\n",
    "**Plotly**:\n",
    "\n",
    "- **Overview**: Plotly stands out as an interactive visualization library. While it supports creating static plots, its strength lies in producing interactive plots that are web-ready. The library offers a wide variety of charts and maps and has modules for creating dashboards and reports.\n",
    "- **Pros**:\n",
    "  - Highly interactive visualizations with built-in tools for zooming, panning, and hovering.\n",
    "  - Supports 3D plots and geographic visualizations.\n",
    "  - Can easily produce web-ready visualizations.\n",
    "- **Cons**:\n",
    "  - Might feel heavy for users who only need simple, static plots.\n",
    "  - While its community is growing, it may not have as extensive support and resources as Matplotlib.\n",
    "  - The free version is open-source, but certain enterprise-grade features come at a cost.\n",
    "\n",
    "**Conclusion**: The choice of library largely depends on the task at hand. For quick exploratory data analysis with good-looking statistical plots, Seaborn is an excellent choice. If customizability and integration with the broader scientific Python ecosystem are essential, Matplotlib reigns supreme. Meanwhile, for interactive, web-ready visualizations, Plotly is the go-to library. Often, a combination of these libraries provides the best results, leveraging the strengths of each.\n"
   ]
  },
  {
   "cell_type": "markdown",
   "metadata": {},
   "source": [
    "## Loading Data and Libraries\n",
    "\n",
    "We'll use a few different standard datasets here!"
   ]
  },
  {
   "cell_type": "code",
   "execution_count": 1,
   "metadata": {},
   "outputs": [],
   "source": [
    "from ipywidgets import *\n",
    "import plotly.express as px\n",
    "import seaborn as sns\n",
    "import matplotlib.pyplot as plt\n",
    "%matplotlib inline\n",
    "plt.style.use('fivethirtyeight')\n",
    "iris = px.data.iris()\n",
    "tips = px.data.tips()\n",
    "flights = sns.load_dataset(\"flights\")\n"
   ]
  },
  {
   "cell_type": "markdown",
   "metadata": {},
   "source": [
    "## Different Libraries and Plots"
   ]
  },
  {
   "cell_type": "markdown",
   "metadata": {},
   "source": [
    "### Histograms\n",
    "\n",
    "A histogram is a graphical representation used to depict the distribution of a dataset. \n",
    "\n",
    "It is an estimate of the probability distribution of a continuous variable. To construct a histogram, the first step is to \"bin\" the range of values—that is, divide the entire range of values into a series of intervals—and then count how many values fall into each interval. The bins are usually specified as consecutive, non-overlapping intervals of a variable. The bins (intervals) are represented by vertical bars, with the height of each bar corresponding to the number of data points that fall into its respective interval. \n",
    "\n",
    "The x-axis of a histogram represents the variable being measured, while the y-axis represents the frequency of the data points. Histograms provide a visual interpretation of numerical data by showing the number of data points that lie within a range of values, which can be useful for understanding the distribution, central tendency, and spread of data."
   ]
  },
  {
   "cell_type": "code",
   "execution_count": 50,
   "metadata": {},
   "outputs": [],
   "source": [
    "def hist():\n",
    "    @interact(library=Dropdown(options=['plotly', 'seaborn', 'matplotlib']),\n",
    "              col=Dropdown(options=iris.columns))\n",
    "    def plot_hist(library, col):\n",
    "        if library == 'seaborn':\n",
    "            sns.histplot(iris[col])\n",
    "            plt.show()\n",
    "        elif library == 'plotly':\n",
    "            fig = px.histogram(iris, x=col, template=\"seaborn\", text_auto=True)\n",
    "            fig.show()\n",
    "        else:\n",
    "            plt.hist(iris[col])\n",
    "            plt.show()\n"
   ]
  },
  {
   "cell_type": "code",
   "execution_count": 51,
   "metadata": {},
   "outputs": [
    {
     "data": {
      "application/vnd.jupyter.widget-view+json": {
       "model_id": "5a151520466640ae84b3476550b3c9a2",
       "version_major": 2,
       "version_minor": 0
      },
      "text/plain": [
       "interactive(children=(Dropdown(description='library', options=('plotly', 'seaborn', 'matplotlib'), value='plot…"
      ]
     },
     "metadata": {},
     "output_type": "display_data"
    }
   ],
   "source": [
    "hist()"
   ]
  },
  {
   "cell_type": "markdown",
   "metadata": {},
   "source": [
    "### Bar Charts\n",
    "\n",
    "A bar chart, also known as a bar graph, is a graphical representation used to compare different categories of data with rectangular bars. \n",
    "\n",
    "The lengths of the bars are proportional to the values they represent. The bars can be plotted vertically or horizontally. The x-axis represents the specific categories being compared, while the y-axis represents a measured value (e.g., frequency, percentage, or any specific quantity). Each bar corresponds to a category and the height or length of the bar indicates the value of that category. \n",
    "\n",
    "Unlike histograms, which display continuous data and have bins, bar charts depict discrete data or distinct categories. For example, a bar chart could be used to compare the sales of different products in a store, with each bar representing a different product and the height indicating the sales figures. Bar charts are versatile and provide clear visuals for comparing data across categories, making differences immediately apparent."
   ]
  },
  {
   "cell_type": "code",
   "execution_count": 31,
   "metadata": {},
   "outputs": [],
   "source": [
    "def bar():\n",
    "    @interact(library=Dropdown(options=['plotly', 'seaborn', 'matplotlib']),\n",
    "              col=Dropdown(options=tips.columns))\n",
    "    def plot_bar(library, col):\n",
    "        if library == 'seaborn':\n",
    "            sns.barplot(x=tips[col], y=tips['day'])\n",
    "            plt.show()\n",
    "        elif library == 'plotly':\n",
    "            fig = px.bar(tips, x=col, y='day',\n",
    "                         template=\"seaborn\", barmode=\"relative\", text_auto=True)\n",
    "            fig.show()\n",
    "        else:\n",
    "            plt.bar(tips[col], tips['day'])\n",
    "            plt.show()\n"
   ]
  },
  {
   "cell_type": "code",
   "execution_count": 32,
   "metadata": {},
   "outputs": [
    {
     "data": {
      "application/vnd.jupyter.widget-view+json": {
       "model_id": "a43cc3396db748db9d2114c09fa564db",
       "version_major": 2,
       "version_minor": 0
      },
      "text/plain": [
       "interactive(children=(Dropdown(description='library', options=('plotly', 'seaborn', 'matplotlib'), value='plot…"
      ]
     },
     "metadata": {},
     "output_type": "display_data"
    }
   ],
   "source": [
    "bar()"
   ]
  },
  {
   "cell_type": "markdown",
   "metadata": {},
   "source": [
    "### Scatter Plots\n",
    "\n",
    "A scatter plot, sometimes referred to as a scatter diagram or scatter graph, is a type of data visualization that uses individual data points to represent the values of two variables. Each point on the scatter plot corresponds to one observation in the dataset. The position of each point is determined by its horizontal (x-axis) and vertical (y-axis) values, making it possible to observe relationships or patterns between the two variables. Scatter plots are particularly useful for studying the correlation or association between two numerical variables. \n",
    "\n",
    "For example, one might use a scatter plot to examine the relationship between years of experience and salary in a given profession. If the points cluster along a diagonal line from the bottom left to the top right, it could indicate a positive correlation between the two variables. Conversely, if they cluster along a diagonal line from the top left to the bottom right, it could indicate a negative correlation. Scatter plots can also highlight outliers or anomalous points that deviate from general trends. They are instrumental in regression analysis, where a line of best fit can be drawn to model the relationship between the variables."
   ]
  },
  {
   "cell_type": "code",
   "execution_count": 54,
   "metadata": {},
   "outputs": [],
   "source": [
    "def scatter():\n",
    "    @interact(library=Dropdown(options=['plotly', 'seaborn', 'matplotlib']),\n",
    "              x=Dropdown(options=iris.columns),\n",
    "              y=Dropdown(options=iris.columns),\n",
    "              color=Dropdown(options=iris.columns))\n",
    "    def plot_scatter(library, x, y, color):\n",
    "        if library == 'seaborn':\n",
    "            sns.scatterplot(x=iris[x], y=iris[y], hue=iris[color])\n",
    "            plt.show()\n",
    "        elif library == 'plotly':\n",
    "            fig = px.scatter(iris, x=x, y=y, color=color, template=\"seaborn\")\n",
    "            fig.show()\n",
    "        else:\n",
    "            plt.scatter(iris[x], iris[y])\n",
    "            plt.show()\n"
   ]
  },
  {
   "cell_type": "code",
   "execution_count": 55,
   "metadata": {},
   "outputs": [
    {
     "data": {
      "application/vnd.jupyter.widget-view+json": {
       "model_id": "2690363dc1c44d4dbd885b1f2785ef2c",
       "version_major": 2,
       "version_minor": 0
      },
      "text/plain": [
       "interactive(children=(Dropdown(description='library', options=('plotly', 'seaborn', 'matplotlib'), value='plot…"
      ]
     },
     "metadata": {},
     "output_type": "display_data"
    }
   ],
   "source": [
    "scatter()"
   ]
  },
  {
   "cell_type": "markdown",
   "metadata": {},
   "source": [
    "### Line Charts\n",
    "\n",
    "A line chart, often referred to as a line graph or line plot, is a type of graph that displays information as a series of data points, called 'markers', connected by straight line segments. It is a basic type of chart common in many fields, primarily used to visualize the progression of a variable over time. The x-axis typically represents time intervals or sequential categories, while the y-axis represents the measured value or quantity for each category. \n",
    "\n",
    "For example, a line chart might be used to track the monthly sales of a product over a year. The months would be plotted along the x-axis, and the corresponding sales figures along the y-axis. The connected line segments help depict trends, patterns, or fluctuations in the data over the period. If the line rises or falls, it can show an increase or decrease in the values, respectively. \n",
    "\n",
    "Line charts are particularly useful for understanding trends over time, making comparisons between different data sets, and identifying peaks and troughs in data sequences."
   ]
  },
  {
   "cell_type": "code",
   "execution_count": 58,
   "metadata": {},
   "outputs": [],
   "source": [
    "def line():\n",
    "    f_df = flights.groupby('year').sum(numeric_only=True).reset_index()\n",
    "    @interact(library=Dropdown(options=['plotly', 'seaborn', 'matplotlib']),\n",
    "              x=Dropdown(options=flights.columns),\n",
    "              y=Dropdown(options=flights.columns))\n",
    "    def plot_line(library, x, y):\n",
    "        if library == 'seaborn':\n",
    "            sns.lineplot(x=f_df[x], y=f_df[y])\n",
    "            plt.show()\n",
    "        elif library == 'plotly':\n",
    "            fig = px.line(f_df, x=x, y=y, template=\"seaborn\")\n",
    "            fig.show()\n",
    "        else:\n",
    "            plt.plot(f_df[x], f_df[y])\n",
    "            plt.show()\n"
   ]
  },
  {
   "cell_type": "code",
   "execution_count": 59,
   "metadata": {},
   "outputs": [
    {
     "data": {
      "application/vnd.jupyter.widget-view+json": {
       "model_id": "f479ee396622487eaf02c450def4620e",
       "version_major": 2,
       "version_minor": 0
      },
      "text/plain": [
       "interactive(children=(Dropdown(description='library', options=('plotly', 'seaborn', 'matplotlib'), value='plot…"
      ]
     },
     "metadata": {},
     "output_type": "display_data"
    }
   ],
   "source": [
    "line()"
   ]
  },
  {
   "cell_type": "markdown",
   "metadata": {},
   "source": [
    "### Box Plots\n",
    "\n",
    "A box plot, also known as a whisker plot or box-and-whisker plot, is a standardized way of displaying the distribution of data based on a five-number summary: the minimum, first quartile (Q1), median (second quartile, Q2), third quartile (Q3), and the maximum. The box itself represents the interquartile range (IQR), which is the range between the first and third quartiles, thus capturing the middle 50% of the data. \n",
    "\n",
    "The median is typically indicated by a line inside the box. Whiskers extend from the box to show the range of the data, though their exact calculation can vary. Some whiskers depict the full range of the data, while others might extend to a maximum of 1.5 times the IQR, with data points beyond the whiskers displayed as outliers. \n",
    "\n",
    "Box plots provide a visual summary of key statistics from the data and are particularly useful for comparing distributions across different groups or categories. They offer insights into the central tendency, variability, and skewness of the data, as well as the presence of potential outliers."
   ]
  },
  {
   "cell_type": "code",
   "execution_count": 62,
   "metadata": {},
   "outputs": [],
   "source": [
    "def box():\n",
    "    @interact(library=Dropdown(options=['plotly', 'seaborn', 'matplotlib']),\n",
    "              x=Dropdown(options=iris.columns),\n",
    "              color=Dropdown(options=iris.columns))\n",
    "    def plot_box(library, x, color):\n",
    "        if library == 'seaborn':\n",
    "            sns.boxplot(x=iris[x], hue=iris[color])\n",
    "            plt.show()\n",
    "        elif library == 'plotly':\n",
    "            fig = px.box(iris, x=x, color=color, template=\"seaborn\")\n",
    "            fig.show()\n",
    "        else:\n",
    "            plt.boxplot(iris[x])\n",
    "            plt.show()\n"
   ]
  },
  {
   "cell_type": "code",
   "execution_count": 63,
   "metadata": {},
   "outputs": [
    {
     "data": {
      "application/vnd.jupyter.widget-view+json": {
       "model_id": "237b1054fc524514a1730643af9d99ff",
       "version_major": 2,
       "version_minor": 0
      },
      "text/plain": [
       "interactive(children=(Dropdown(description='library', options=('plotly', 'seaborn', 'matplotlib'), value='plot…"
      ]
     },
     "metadata": {},
     "output_type": "display_data"
    }
   ],
   "source": [
    "box()"
   ]
  },
  {
   "cell_type": "markdown",
   "metadata": {},
   "source": [
    "### Violin Plots\n",
    "\n",
    "A violin plot is a method of plotting numeric data and can be understood as a combination of a box plot and a kernel density plot. It provides a visualization of the distribution of the data, its probability density, and its cumulative distribution. Unlike a box plot, which only shows summary statistics, a violin plot displays the full data distribution. The plot is symmetrical, with the width of the plot at different values indicating the density of the data at that value, much like a smoothed histogram turned on its side. Inside the violin plot, one can often find a miniature box plot or even individual data points.\n",
    "\n",
    "The primary advantage of a violin plot over a traditional box plot is its ability to reveal the density of the data at different values, making it especially useful for datasets with multiple modes or a non-uniform distribution. For instance, while a box plot might suggest a symmetrical distribution around the median, a violin plot could reveal that the data is actually bimodal or has some other complex shape. This added detail helps researchers and analysts to more thoroughly understand the underlying patterns in their data."
   ]
  },
  {
   "cell_type": "code",
   "execution_count": 39,
   "metadata": {},
   "outputs": [],
   "source": [
    "def violin():\n",
    "    @interact(library=Dropdown(options=['plotly', 'seaborn', 'matplotlib']),\n",
    "              x=Dropdown(options=iris.columns),\n",
    "              color=Dropdown(options=iris.columns))\n",
    "    def plot_violin(library, x, color):\n",
    "        if library == 'seaborn':\n",
    "            sns.violinplot(x=iris[x], hue=iris[color])\n",
    "            plt.show()\n",
    "        elif library == 'plotly':\n",
    "            fig = px.violin(iris, x=x, color=color, template=\"seaborn\")\n",
    "            fig.show()\n",
    "        else:\n",
    "            plt.violinplot(iris[x])\n",
    "            plt.show()\n"
   ]
  },
  {
   "cell_type": "code",
   "execution_count": 40,
   "metadata": {},
   "outputs": [
    {
     "data": {
      "application/vnd.jupyter.widget-view+json": {
       "model_id": "3a175ec360934990b65ba1fd283590e2",
       "version_major": 2,
       "version_minor": 0
      },
      "text/plain": [
       "interactive(children=(Dropdown(description='library', options=('plotly', 'seaborn', 'matplotlib'), value='plot…"
      ]
     },
     "metadata": {},
     "output_type": "display_data"
    }
   ],
   "source": [
    "violin()"
   ]
  },
  {
   "cell_type": "markdown",
   "metadata": {},
   "source": [
    "### Pie Charts\n",
    "\n",
    "A pie chart is a circular statistical graphic divided into slices to illustrate numerical proportions. Each slice of the pie represents a category and is proportional to the quantity it stands for. The entire circle represents the whole or total dataset, and each segment or slice signifies a particular category's contribution to that whole. The size (usually the angle or area) of each slice is determined by its proportion relative to the total sum. For example, in a pie chart representing the market share of different companies, each slice would show a company's relative share of the market, and the entire circle would represent the entirety of the market.\n",
    "\n",
    "Pie charts are particularly effective when you want to visualize a dataset in terms of the relative sizes of its categories, especially when the number of categories is small. They provide a quick and intuitive representation, making it easy to compare the size of each category at a glance. However, they may not be as effective or accurate in representing subtle differences in data or when there are a large number of small categories, as it can become challenging to differentiate and compare small slices. In such cases, other types of charts or graphs might be more appropriate."
   ]
  },
  {
   "cell_type": "code",
   "execution_count": 66,
   "metadata": {},
   "outputs": [],
   "source": [
    "def pie():\n",
    "    @interact(library=Dropdown(options=['plotly', 'seaborn', 'matplotlib']),\n",
    "              x=Dropdown(options=iris.columns))\n",
    "    def plot_pie(library, x):\n",
    "        if library == 'seaborn':\n",
    "            plt.pie(iris[x])\n",
    "            plt.show()\n",
    "        elif library == 'plotly':\n",
    "            fig = px.pie(iris, values=x, names='species', template=\"seaborn\")\n",
    "            fig.show()\n",
    "        else:\n",
    "            plt.pie(iris[x])\n",
    "            plt.show()"
   ]
  },
  {
   "cell_type": "code",
   "execution_count": 67,
   "metadata": {},
   "outputs": [
    {
     "data": {
      "application/vnd.jupyter.widget-view+json": {
       "model_id": "9b0e325c05b74f0c854b5a2ed2aa1313",
       "version_major": 2,
       "version_minor": 0
      },
      "text/plain": [
       "interactive(children=(Dropdown(description='library', options=('plotly', 'seaborn', 'matplotlib'), value='plot…"
      ]
     },
     "metadata": {},
     "output_type": "display_data"
    }
   ],
   "source": [
    "pie()"
   ]
  },
  {
   "cell_type": "markdown",
   "metadata": {},
   "source": [
    "### Heatmap\n",
    "\n",
    "A heatmap is a graphical representation of data where individual values are represented as colors. The varying shades or colors in a heatmap correspond to the magnitude of the values in the data matrix. Typically, a gradient of colors is used, where cooler colors like blues might represent lower values and warmer colors like reds might represent higher values, though the color scheme can vary based on preference or specific use cases. Heatmaps are particularly useful for visualizing complex datasets with numerous variables or when trying to identify patterns, correlations, or trends across two dimensions.\n",
    "\n",
    "One common application of heatmaps is in displaying correlation matrices, where each cell represents the correlation coefficient between two variables. Another application is in biology, where heatmaps are used to display gene expression data across multiple conditions. In web analytics, heatmaps can represent which areas of a webpage are most frequently clicked, viewed, or hovered over by users. By visualizing data in this way, a heatmap can quickly convey information about the distribution and relationships of values in a dataset, making patterns and outliers immediately evident."
   ]
  },
  {
   "cell_type": "code",
   "execution_count": 68,
   "metadata": {},
   "outputs": [],
   "source": [
    "def heatmap():\n",
    "    @interact(library=Dropdown(options=['plotly', 'seaborn', 'matplotlib']))\n",
    "    def plot_heatmap(library):\n",
    "        if library == 'seaborn':\n",
    "            sns.heatmap(iris.corr(numeric_only=True), annot=True)\n",
    "            plt.show()\n",
    "        elif library == 'plotly':\n",
    "            fig = px.imshow(iris.corr(numeric_only=True), template=\"seaborn\", text_auto=True)\n",
    "            fig.show()\n",
    "        else:\n",
    "            plt.imshow(iris.corr(numeric_only=True))\n",
    "            plt.show()"
   ]
  },
  {
   "cell_type": "code",
   "execution_count": 69,
   "metadata": {},
   "outputs": [
    {
     "data": {
      "application/vnd.jupyter.widget-view+json": {
       "model_id": "782b01f25e0340b6a884d6c85e832881",
       "version_major": 2,
       "version_minor": 0
      },
      "text/plain": [
       "interactive(children=(Dropdown(description='library', options=('plotly', 'seaborn', 'matplotlib'), value='plot…"
      ]
     },
     "metadata": {},
     "output_type": "display_data"
    }
   ],
   "source": [
    "heatmap()"
   ]
  },
  {
   "cell_type": "markdown",
   "metadata": {},
   "source": [
    "### Pair Plot\n",
    "\n",
    "A pair plot, often referred to in the context of the Seaborn visualization library as a \"pairplot\", is a grid of scatter plots used to visualize pairwise relationships in a dataset. When dealing with a dataset with multiple numeric variables, it's often useful to examine all pairwise relationships simultaneously. The pair plot achieves this by plotting every combination of numerical features against each other. \n",
    "\n",
    "In a typical pair plot, the diagonal (from top-left to bottom-right) usually doesn't display scatter plots since it would be the relationship of the variable with itself. Instead, histograms or kernel density estimates of each variable are commonly shown to give an idea of its distribution.\n",
    "\n",
    "The main advantage of a pair plot is that it allows for a quick examination of relationships and correlations among multiple variables simultaneously. By viewing scatter plots in tandem with histograms or density plots, one can quickly identify patterns, relationships, and potential outliers in a dataset. However, pair plots can become cluttered and less informative when dealing with a very large number of variables, making them more suited for datasets with a moderate number of numeric features."
   ]
  },
  {
   "cell_type": "code",
   "execution_count": 74,
   "metadata": {},
   "outputs": [],
   "source": [
    "def pairplot():\n",
    "    @interact(library=Dropdown(options=['plotly', 'seaborn', 'matplotlib']), color=Dropdown(options=iris.columns))\n",
    "    def plot_pairplot(library, color):\n",
    "        if library == 'seaborn':\n",
    "            sns.pairplot(iris)\n",
    "            plt.show()\n",
    "        elif library == 'plotly':\n",
    "            fig = px.scatter_matrix(iris, template=\"seaborn\", color=color)\n",
    "            fig.show()"
   ]
  },
  {
   "cell_type": "code",
   "execution_count": 75,
   "metadata": {},
   "outputs": [
    {
     "data": {
      "application/vnd.jupyter.widget-view+json": {
       "model_id": "4e48de8b01824cb0bc941bad514ec45f",
       "version_major": 2,
       "version_minor": 0
      },
      "text/plain": [
       "interactive(children=(Dropdown(description='library', options=('plotly', 'seaborn', 'matplotlib'), value='plot…"
      ]
     },
     "metadata": {},
     "output_type": "display_data"
    }
   ],
   "source": [
    "pairplot()"
   ]
  },
  {
   "cell_type": "markdown",
   "metadata": {},
   "source": [
    "### Joint Plot\n",
    "\n",
    "A joint plot is a type of visualization that provides a bivariate (two-variable) analysis along with the individual distributions of the two variables in a single visualization. Essentially, a joint plot combines scatter plots or hexbin plots with histograms or kernel density estimates. The main plot showcases the relationship between the two variables, while the margins of the plot depict the univariate distribution of each variable on the x and y axes.\n",
    "\n",
    "Joint plots are useful for quickly visualizing and understanding the relationship between two numerical variables along with their individual distributions. For instance, if you're trying to determine the correlation between two variables, the central scatter plot will give you an insight into their relationship, while the histograms on the margins will provide details about the distribution of each individual variable.\n",
    "\n",
    "In the context of Python's Seaborn library, `jointplot` is a common function used to produce these kinds of visualizations, offering options to customize the type of plots and aesthetics according to the user's preference."
   ]
  },
  {
   "cell_type": "code",
   "execution_count": 81,
   "metadata": {},
   "outputs": [],
   "source": [
    "def jointplot():\n",
    "    @interact(library=Dropdown(options=['plotly', 'seaborn', 'matplotlib']),\n",
    "              x=Dropdown(options=iris.columns),\n",
    "              y=Dropdown(options=iris.columns),\n",
    "              color=Dropdown(options=iris.columns))\n",
    "    def plot_jointplot(library, x, y, color):\n",
    "        if library == 'seaborn':\n",
    "            sns.jointplot(x=iris[x], y=iris[y], hue=iris[color])\n",
    "            plt.show()\n",
    "        elif library == 'plotly':\n",
    "            fig = px.scatter(iris, x=x, y=y, template=\"seaborn\",\n",
    "                             marginal_x=\"histogram\", marginal_y=\"histogram\", color=color)\n",
    "            fig.show()\n",
    "        else:\n",
    "            plt.scatter(iris[x], iris[y])\n",
    "            plt.show()\n"
   ]
  },
  {
   "cell_type": "code",
   "execution_count": 82,
   "metadata": {},
   "outputs": [
    {
     "data": {
      "application/vnd.jupyter.widget-view+json": {
       "model_id": "89e2116354cf47cf8c8a27f0ec2b3da3",
       "version_major": 2,
       "version_minor": 0
      },
      "text/plain": [
       "interactive(children=(Dropdown(description='library', options=('plotly', 'seaborn', 'matplotlib'), value='plot…"
      ]
     },
     "metadata": {},
     "output_type": "display_data"
    }
   ],
   "source": [
    "jointplot()"
   ]
  },
  {
   "cell_type": "markdown",
   "metadata": {},
   "source": [
    "### Strip Plot\n",
    "\n",
    "A strip plot is a type of data visualization that displays individual data points as dots, stripes, or other markers along an axis, typically organized by categories. It's a form of categorical scatter plot used for a one-dimensional dataset or when one variable is categorical. Each category or group is defined on the x-axis (or y-axis, depending on orientation), and the corresponding data points are plotted along the other axis.\n",
    "\n",
    "One key feature of a strip plot is that the data points are typically plotted in a single line for each category. This can lead to overlapping points when there are many data points in a category or when the points have a similar value. To address this, a slight random jitter can be added to the data points' positions to spread them out and make them more distinguishable.\n",
    "\n",
    "Strip plots are especially useful for visualizing and comparing the distributions of datasets across different categories. They can provide insights into the central tendencies, spreads, and potential outliers within each category. In the Python visualization library Seaborn, the `stripplot` function can be used to easily generate such plots."
   ]
  },
  {
   "cell_type": "code",
   "execution_count": 84,
   "metadata": {},
   "outputs": [],
   "source": [
    "def stripplot():\n",
    "    @interact(library=Dropdown(options=['plotly', 'seaborn']),\n",
    "              x=Dropdown(options=iris.columns),\n",
    "              y=Dropdown(options=iris.columns),\n",
    "              color=Dropdown(options=iris.columns))\n",
    "    def plot_stripplot(library, x, y, color):\n",
    "        if library == 'seaborn':\n",
    "            sns.stripplot(x=iris[x], y=iris[y], hue=iris[color])\n",
    "            plt.show()\n",
    "        elif library == 'plotly':\n",
    "            fig = px.strip(iris, x=x, y=y, color=color, template=\"seaborn\")\n",
    "            fig.show()\n"
   ]
  },
  {
   "cell_type": "code",
   "execution_count": 85,
   "metadata": {},
   "outputs": [
    {
     "data": {
      "application/vnd.jupyter.widget-view+json": {
       "model_id": "ab34eda20dc648dc8b908e9014e09f6a",
       "version_major": 2,
       "version_minor": 0
      },
      "text/plain": [
       "interactive(children=(Dropdown(description='library', options=('plotly', 'seaborn'), value='plotly'), Dropdown…"
      ]
     },
     "metadata": {},
     "output_type": "display_data"
    }
   ],
   "source": [
    "stripplot()"
   ]
  },
  {
   "cell_type": "markdown",
   "metadata": {},
   "source": [
    "### Scatter 3D\n",
    "\n",
    "A 3D scatter plot is a type of data visualization that displays points in three dimensions. Each axis of the 3D plot corresponds to a variable, allowing viewers to observe relationships and patterns in data that has three distinct numeric variables. The positions of the points in the space are determined by their values for the three variables.\n",
    "\n",
    "Much like a traditional 2D scatter plot, a 3D scatter plot is valuable for observing relationships and correlations between variables. However, by introducing a third dimension, it becomes possible to explore more complex datasets and relationships. The depth and perspective provided by the three-dimensional view can reveal patterns or trends that might be obscured or less evident in a 2D visualization.\n",
    "\n",
    "That being said, while 3D scatter plots can provide added insights, they also come with challenges. Interpreting data in 3D can be more difficult, especially when visualized on a 2D screen. Rotating the plot or interacting with it can help in understanding the spatial relationships better. Tools like Python's Matplotlib or Plotly libraries offer capabilities to create interactive 3D scatter plots, allowing users to rotate, zoom, and explore the visualization more effectively."
   ]
  },
  {
   "cell_type": "code",
   "execution_count": 13,
   "metadata": {},
   "outputs": [],
   "source": [
    "def scatter_3d():\n",
    "    @interact(library=Dropdown(options=['seaborn', 'plotly']),\n",
    "              x=Dropdown(options=iris.columns),\n",
    "              y=Dropdown(options=iris.columns),\n",
    "              z=Dropdown(options=iris.columns),\n",
    "              color=Dropdown(options=iris.columns))\n",
    "    def plot_scatter_3d(library, x, y, z, color):\n",
    "        if library == 'seaborn':\n",
    "            fig = plt.figure()\n",
    "            ax = fig.add_subplot(111, projection='3d')\n",
    "            ax.scatter(iris[x], iris[y], iris[z], c=iris[color])\n",
    "            plt.show()\n",
    "        elif library == 'plotly':\n",
    "            fig = px.scatter_3d(iris, x=x, y=y, z=z,\n",
    "                                color=color, template=\"seaborn\")\n",
    "            fig.show()\n"
   ]
  }
 ],
 "metadata": {
  "kernelspec": {
   "display_name": "Python 3 (ipykernel)",
   "language": "python",
   "name": "python3"
  },
  "language_info": {
   "codemirror_mode": {
    "name": "ipython",
    "version": 3
   },
   "file_extension": ".py",
   "mimetype": "text/x-python",
   "name": "python",
   "nbconvert_exporter": "python",
   "pygments_lexer": "ipython3",
   "version": "3.11.11"
  }
 },
 "nbformat": 4,
 "nbformat_minor": 4
}

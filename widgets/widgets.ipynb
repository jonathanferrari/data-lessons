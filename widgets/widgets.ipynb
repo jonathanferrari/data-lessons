{
 "cells": [
  {
   "cell_type": "markdown",
   "metadata": {},
   "source": [
    "# Interactive Widgets for Jupyter Notebooks"
   ]
  },
  {
   "cell_type": "markdown",
   "metadata": {},
   "source": [
    "# Imports"
   ]
  },
  {
   "cell_type": "code",
   "execution_count": 1,
   "metadata": {},
   "outputs": [],
   "source": [
    "import pandas as pd\n",
    "import numpy as np\n",
    "import matplotlib.pyplot as plt\n",
    "import seaborn as sns\n",
    "%matplotlib inline\n",
    "import plotly.express as px\n",
    "import ipywidgets as widgets\n",
    "from IPython.display import display\n",
    "from ipywidgets import interact, interact_manual"
   ]
  },
  {
   "cell_type": "markdown",
   "metadata": {},
   "source": [
    "# Data"
   ]
  },
  {
   "cell_type": "code",
   "execution_count": 2,
   "metadata": {},
   "outputs": [],
   "source": [
    "taxis = sns.load_dataset('taxis')\n",
    "iris = sns.load_dataset('iris')\n",
    "tips = sns.load_dataset('tips')"
   ]
  },
  {
   "cell_type": "markdown",
   "metadata": {},
   "source": [
    "## Table of Contents\n",
    "- 1 Widgets\n",
    "    - 1.1. Text\n",
    "    - 1.2. Buttons\n",
    "    - 1.3. Checkboxes\n",
    "    - 1.4. Dropdown\n",
    "    - 1.5. Radio Buttons\n",
    "    - 1.6. Sliders\n",
    "    - 1.7. Date Picker\n",
    "    - 1.8. Color Picker\n",
    "    - 1.9. File Upload\n",
    "    - 1.10. Output\n",
    "    - 1.11. Layout\n",
    "- 2 Widgets Interactions\n",
    "    - 2.1. Linking Widgets\n",
    "    - 2.2. Observing Changes\n",
    "    - 2.3. Widgets Events\n",
    "    - 2.4. Button Clicks\n",
    "    - 2.5. Button Clicks with Output\n",
    "    - 2.6. Button Clicks with Output and Layout\n",
    "- 3 Widgets with Plots\n",
    "    - 3.1. Plotly Express\n",
    "    - 3.2. Seaborn with Widgets\n",
    "    - 3.3 Widgets with Matplotlib\n",
    "- 4 Widgets with Data\n",
    "    - 4.2. Widgets with DataFrames\n",
    "    - 4.3. Widgets with Tables\n",
    "- 5 Widgets with Functions\n",
    "    - 5.1. Widgets with Functions\n",
    "    - 5.2. Widgets with Functions and Output\n",
    "    - 5.3. Widgets with Functions and Output and Layout\n",
    "- 6 Conclusion"
   ]
  },
  {
   "cell_type": "markdown",
   "metadata": {},
   "source": [
    "## 1. Widgets"
   ]
  },
  {
   "cell_type": "markdown",
   "metadata": {},
   "source": [
    "### 1.1 Text"
   ]
  },
  {
   "cell_type": "markdown",
   "metadata": {},
   "source": [
    "The `ipywidgets` package in Jupyter Notebooks provides a variety of interactive elements, including text widgets, which are particularly useful for creating interactive interfaces for users. The text widgets are versatile, supporting both plain text and password input. They allow users to enter and submit text data, which can then be dynamically captured and utilized by the notebook's underlying Python code. This real-time interaction between the user input and the code is invaluable in various applications, such as filtering datasets based on user-specified criteria, tuning parameters for machine learning models, or even providing input for real-time simulations and visualizations. With text widgets, users can construct more intuitive and interactive analytical workflows, making it easier to explore and understand data, develop models, and generate insights without having to modify the code constantly. The simplicity and flexibility of text widgets make them an essential tool in the `ipywidgets` package for both novice and experienced Jupyter Notebook users."
   ]
  },
  {
   "cell_type": "code",
   "execution_count": 3,
   "metadata": {},
   "outputs": [
    {
     "data": {
      "application/vnd.jupyter.widget-view+json": {
       "model_id": "3b459daf93bb44ebbde816ed859b673c",
       "version_major": 2,
       "version_minor": 0
      },
      "text/plain": [
       "Text(value='')"
      ]
     },
     "execution_count": 3,
     "metadata": {},
     "output_type": "execute_result"
    }
   ],
   "source": [
    "widgets.Text()\n"
   ]
  },
  {
   "cell_type": "code",
   "execution_count": 4,
   "metadata": {},
   "outputs": [
    {
     "data": {
      "application/vnd.jupyter.widget-view+json": {
       "model_id": "074e854dfeec4bbf8a621f74da75a805",
       "version_major": 2,
       "version_minor": 0
      },
      "text/plain": [
       "Textarea(value='')"
      ]
     },
     "execution_count": 4,
     "metadata": {},
     "output_type": "execute_result"
    }
   ],
   "source": [
    "widgets.Textarea()"
   ]
  },
  {
   "cell_type": "code",
   "execution_count": 5,
   "metadata": {},
   "outputs": [
    {
     "data": {
      "application/vnd.jupyter.widget-view+json": {
       "model_id": "a189f31130db48e68aa238b141a272fc",
       "version_major": 2,
       "version_minor": 0
      },
      "text/plain": [
       "BoundedIntText(value=50)"
      ]
     },
     "execution_count": 5,
     "metadata": {},
     "output_type": "execute_result"
    }
   ],
   "source": [
    "widgets.BoundedIntText(min=0, max=100, value=50)"
   ]
  },
  {
   "cell_type": "markdown",
   "metadata": {},
   "source": [
    "### 1.2 Buttons\n"
   ]
  },
  {
   "cell_type": "markdown",
   "metadata": {},
   "source": [
    "Buttons are another integral component provided by the `ipywidgets` package in Jupyter Notebooks. These interactive elements enable users to trigger specific actions or execute chunks of code upon clicking. Buttons are incredibly versatile and straightforward to use, providing immediate, user-initiated feedback without requiring the manual rerunning of cells. This functionality is especially beneficial in creating streamlined and user-friendly interfaces for data analysis, model training, or visualization tasks. Users can assign unique functions to different buttons, thus designing interactive applications or dashboards within the notebook environment itself. For instance, one might configure a button to initiate data retrieval, launch a machine learning model training process, or generate plots dynamically based on the current state of the data. Buttons, therefore, serve as practical tools for simplifying complex workflows and enhancing the interactivity and efficiency of working within Jupyter Notebooks."
   ]
  },
  {
   "cell_type": "code",
   "execution_count": 6,
   "metadata": {},
   "outputs": [
    {
     "data": {
      "application/vnd.jupyter.widget-view+json": {
       "model_id": "9d80f4c868214cf3806974d901eb0a45",
       "version_major": 2,
       "version_minor": 0
      },
      "text/plain": [
       "Button(description='Click me', style=ButtonStyle())"
      ]
     },
     "execution_count": 6,
     "metadata": {},
     "output_type": "execute_result"
    }
   ],
   "source": [
    "widgets.Button(description='Click me')\n"
   ]
  },
  {
   "cell_type": "code",
   "execution_count": 7,
   "metadata": {},
   "outputs": [
    {
     "data": {
      "application/vnd.jupyter.widget-view+json": {
       "model_id": "21e115acda7d40c89acd39f57bf74279",
       "version_major": 2,
       "version_minor": 0
      },
      "text/plain": [
       "ToggleButton(value=False, description='Click me')"
      ]
     },
     "execution_count": 7,
     "metadata": {},
     "output_type": "execute_result"
    }
   ],
   "source": [
    "widgets.ToggleButton(description='Click me')\n"
   ]
  },
  {
   "cell_type": "code",
   "execution_count": 8,
   "metadata": {},
   "outputs": [
    {
     "data": {
      "application/vnd.jupyter.widget-view+json": {
       "model_id": "e779a414cd88462aa1b2f17b4538ac4c",
       "version_major": 2,
       "version_minor": 0
      },
      "text/plain": [
       "ToggleButtons(options=('Slow', 'Regular', 'Fast'), value='Slow')"
      ]
     },
     "execution_count": 8,
     "metadata": {},
     "output_type": "execute_result"
    }
   ],
   "source": [
    "widgets.ToggleButtons(options=['Slow', 'Regular', 'Fast'])\n"
   ]
  },
  {
   "cell_type": "code",
   "execution_count": 9,
   "metadata": {},
   "outputs": [
    {
     "data": {
      "application/vnd.jupyter.widget-view+json": {
       "model_id": "4cdaba58bd964a23b9e75eebe41e4268",
       "version_major": 2,
       "version_minor": 0
      },
      "text/plain": [
       "ButtonStyle()"
      ]
     },
     "execution_count": 9,
     "metadata": {},
     "output_type": "execute_result"
    }
   ],
   "source": [
    "widgets.ButtonStyle()"
   ]
  },
  {
   "cell_type": "markdown",
   "metadata": {},
   "source": [
    "### 1.3 Checkboxes\n"
   ]
  },
  {
   "cell_type": "markdown",
   "metadata": {},
   "source": [
    "Checkboxes within the `ipywidgets` package offer another layer of interactivity in Jupyter Notebooks by providing binary choices to users. These simple yet powerful widgets allow users to toggle between two states, typically 'checked' and 'unchecked', which can be interpreted as 'True' and 'False' respectively in the Python code. This functionality is essential for enabling or disabling specific features or options dynamically, without altering the code directly. For example, a user might use checkboxes to select which data columns to visualize, apply filters, or activate different modes of operation for a given algorithm. The instantaneous feedback from checkboxes facilitates exploratory data analysis and model development, as users can easily experiment with different configurations and observe the results in real-time. The ease of implementation and use of checkbox widgets makes them an invaluable resource for creating interactive, responsive, and user-friendly interfaces in Jupyter Notebooks."
   ]
  },
  {
   "cell_type": "code",
   "execution_count": 10,
   "metadata": {},
   "outputs": [
    {
     "data": {
      "application/vnd.jupyter.widget-view+json": {
       "model_id": "5e76f46ce5fe448aa016732a2d89ad81",
       "version_major": 2,
       "version_minor": 0
      },
      "text/plain": [
       "Checkbox(value=False, description='Check me')"
      ]
     },
     "execution_count": 10,
     "metadata": {},
     "output_type": "execute_result"
    }
   ],
   "source": [
    "widgets.Checkbox(description='Check me')"
   ]
  },
  {
   "cell_type": "markdown",
   "metadata": {},
   "source": [
    "### 1.4 Dropdowns\n"
   ]
  },
  {
   "cell_type": "markdown",
   "metadata": {},
   "source": [
    "Dropdown widgets within the `ipywidgets` package are essential interactive tools in Jupyter Notebooks, allowing users to select from a predefined list of options through a collapsible menu. This functionality is invaluable for conserving screen space while still providing users with multiple choices. Dropdowns facilitate a smoother and more intuitive user experience, as they enable users to easily select and change variables, parameters, or any other categorical data without manually entering or altering the code. For example, in data visualization tasks, a dropdown can be employed to select which data feature to plot, change the chart type, or even switch between different color schemes. Similarly, in machine learning applications, dropdowns can be utilized for selecting different algorithms, evaluation metrics, or datasets to work with. By providing a straightforward and efficient way to incorporate user inputs, dropdown widgets significantly enhance the flexibility and interactivity of Jupyter Notebooks, making them indispensable for a wide range of data analysis and scientific computing tasks."
   ]
  },
  {
   "cell_type": "code",
   "execution_count": 11,
   "metadata": {},
   "outputs": [
    {
     "data": {
      "application/vnd.jupyter.widget-view+json": {
       "model_id": "2bcec070778645258ed70bbab792642d",
       "version_major": 2,
       "version_minor": 0
      },
      "text/plain": [
       "Dropdown(options=('Slow', 'Regular', 'Fast'), value='Slow')"
      ]
     },
     "execution_count": 11,
     "metadata": {},
     "output_type": "execute_result"
    }
   ],
   "source": [
    "widgets.Dropdown(options=['Slow', 'Regular', 'Fast'])"
   ]
  },
  {
   "cell_type": "markdown",
   "metadata": {},
   "source": [
    "### 1.5 Radio Buttons\n"
   ]
  },
  {
   "cell_type": "markdown",
   "metadata": {},
   "source": [
    "Radio buttons within the `ipywidgets` package are interactive elements that facilitate user selection from a set of predefined options in Jupyter Notebooks. Each option is represented by a circular button, and users can select only one option at a time, making radio buttons ideal for situations where exclusive choices are necessary. For example, a user may use radio buttons to choose among different data visualization types, like bar, line, or scatter plots. Alternatively, in machine learning contexts, radio buttons can be employed to select a specific model or algorithm to apply to a dataset. The immediate reflection of the user’s selection in the notebook’s output enhances interactive exploration and real-time analysis, as users can swiftly switch between options and observe the resultant changes without altering the code directly. The simplicity and user-friendly nature of radio buttons make them an invaluable tool for crafting intuitive and responsive interfaces within Jupyter Notebooks, significantly aiding in data exploration, analysis, and presentation tasks."
   ]
  },
  {
   "cell_type": "code",
   "execution_count": 12,
   "metadata": {},
   "outputs": [
    {
     "data": {
      "application/vnd.jupyter.widget-view+json": {
       "model_id": "57fb4d05dc7f421cb8647925c5760b78",
       "version_major": 2,
       "version_minor": 0
      },
      "text/plain": [
       "RadioButtons(options=('Slow', 'Regular', 'Fast'), value='Slow')"
      ]
     },
     "execution_count": 12,
     "metadata": {},
     "output_type": "execute_result"
    }
   ],
   "source": [
    "widgets.RadioButtons(options=['Slow', 'Regular', 'Fast'])"
   ]
  },
  {
   "cell_type": "markdown",
   "metadata": {},
   "source": [
    "### 1.6 Sliders\n"
   ]
  },
  {
   "cell_type": "markdown",
   "metadata": {},
   "source": [
    "Sliders provided by the `ipywidgets` package in Jupyter Notebooks are dynamic tools that allow users to select a value or range within a set interval by moving a handle along a track. These widgets are particularly useful for adjusting numerical parameters interactively, offering a visual and intuitive way to explore the effects of changing values on the data or model's output. Sliders can be configured to represent different types of data, including integers, floats, and date-times, making them highly versatile for various applications. For instance, in data visualization, a user might employ sliders to adjust the scale or range of a plot dynamically. In machine learning, sliders can be invaluable for tuning hyperparameters and observing how modifications influence model performance in real time. By facilitating the exploration of parameter spaces and the interactive manipulation of numerical values, sliders enhance the user’s ability to conduct more insightful and responsive data analysis and modeling within Jupyter Notebooks. Their easy-to-use, interactive nature makes sliders indispensable for creating engaging and effective analytical workflows and applications."
   ]
  },
  {
   "cell_type": "code",
   "execution_count": 13,
   "metadata": {},
   "outputs": [
    {
     "data": {
      "application/vnd.jupyter.widget-view+json": {
       "model_id": "de416891faa243bb9e58ced284b8868d",
       "version_major": 2,
       "version_minor": 0
      },
      "text/plain": [
       "IntSlider(value=50)"
      ]
     },
     "execution_count": 13,
     "metadata": {},
     "output_type": "execute_result"
    }
   ],
   "source": [
    "widgets.IntSlider(min=0, max=100, value=50)"
   ]
  },
  {
   "cell_type": "code",
   "execution_count": 14,
   "metadata": {},
   "outputs": [
    {
     "data": {
      "application/vnd.jupyter.widget-view+json": {
       "model_id": "b1a5654333664163a3156ba582903f05",
       "version_major": 2,
       "version_minor": 0
      },
      "text/plain": [
       "FloatSlider(value=50.0)"
      ]
     },
     "execution_count": 14,
     "metadata": {},
     "output_type": "execute_result"
    }
   ],
   "source": [
    "widgets.FloatSlider(min=0, max=100, value=50)"
   ]
  },
  {
   "cell_type": "code",
   "execution_count": 15,
   "metadata": {},
   "outputs": [
    {
     "data": {
      "application/vnd.jupyter.widget-view+json": {
       "model_id": "e9ab0bdc30f8475eaa314c9151ed6467",
       "version_major": 2,
       "version_minor": 0
      },
      "text/plain": [
       "FloatLogSlider(value=50.0, max=100.0)"
      ]
     },
     "execution_count": 15,
     "metadata": {},
     "output_type": "execute_result"
    }
   ],
   "source": [
    "widgets.FloatLogSlider(min=0, max=100, value=50)"
   ]
  },
  {
   "cell_type": "code",
   "execution_count": 16,
   "metadata": {},
   "outputs": [
    {
     "data": {
      "application/vnd.jupyter.widget-view+json": {
       "model_id": "c6835bb21fd448049f15ce6135194426",
       "version_major": 2,
       "version_minor": 0
      },
      "text/plain": [
       "IntRangeSlider(value=(20, 80))"
      ]
     },
     "execution_count": 16,
     "metadata": {},
     "output_type": "execute_result"
    }
   ],
   "source": [
    "widgets.IntRangeSlider(min=0, max=100, value=[20, 80])"
   ]
  },
  {
   "cell_type": "code",
   "execution_count": 17,
   "metadata": {},
   "outputs": [
    {
     "data": {
      "application/vnd.jupyter.widget-view+json": {
       "model_id": "d3853b66daf440f5893beea42c728a21",
       "version_major": 2,
       "version_minor": 0
      },
      "text/plain": [
       "FloatRangeSlider(value=(20.0, 80.0))"
      ]
     },
     "execution_count": 17,
     "metadata": {},
     "output_type": "execute_result"
    }
   ],
   "source": [
    "widgets.FloatRangeSlider(min=0, max=100, value=[20, 80])"
   ]
  },
  {
   "cell_type": "code",
   "execution_count": 18,
   "metadata": {},
   "outputs": [
    {
     "data": {
      "application/vnd.jupyter.widget-view+json": {
       "model_id": "bac9f5b5703344b5b2e09a2d927897f6",
       "version_major": 2,
       "version_minor": 0
      },
      "text/plain": [
       "FloatProgress(value=75.9, description='Loading:')"
      ]
     },
     "execution_count": 18,
     "metadata": {},
     "output_type": "execute_result"
    }
   ],
   "source": [
    "widgets.FloatProgress(value=75.9, description='Loading:')"
   ]
  },
  {
   "cell_type": "markdown",
   "metadata": {},
   "source": [
    "### 1.7 Date Pickers\n"
   ]
  },
  {
   "cell_type": "markdown",
   "metadata": {},
   "source": [
    "Date Picker widgets in the `ipywidgets` package are specialized tools designed for easy and accurate date selection within Jupyter Notebooks. These widgets present users with a visual calendar interface, allowing them to pick a specific date or a range of dates without having to input them manually in a text format. This not only simplifies the user experience but also minimizes the risk of entering incorrect or invalid dates. Date Pickers are incredibly valuable in scenarios where date information is crucial, such as in time-series analysis, financial modeling, or any data analytics task that involves temporal data. For instance, a user might want to filter and analyze data for a specific time period, and a Date Picker widget can streamline this process by providing a straightforward and interactive means of selecting the desired date range. By offering a user-friendly and error-resistant method for date input, Date Pickers significantly enhance the efficiency and accuracy of working with date and time data in Jupyter Notebooks."
   ]
  },
  {
   "cell_type": "code",
   "execution_count": 19,
   "metadata": {},
   "outputs": [
    {
     "data": {
      "application/vnd.jupyter.widget-view+json": {
       "model_id": "d30c3217a3b84fb39a2773a32fa7d152",
       "version_major": 2,
       "version_minor": 0
      },
      "text/plain": [
       "DatePicker(value=None, description='Pick a Date', step=1)"
      ]
     },
     "execution_count": 19,
     "metadata": {},
     "output_type": "execute_result"
    }
   ],
   "source": [
    "widgets.DatePicker(description='Pick a Date')"
   ]
  },
  {
   "cell_type": "code",
   "execution_count": 20,
   "metadata": {},
   "outputs": [
    {
     "data": {
      "application/vnd.jupyter.widget-view+json": {
       "model_id": "de778ef23b4f43d49d7cba291df2143b",
       "version_major": 2,
       "version_minor": 0
      },
      "text/plain": [
       "DatetimePicker(value=None, description='Pick a Date and Time')"
      ]
     },
     "execution_count": 20,
     "metadata": {},
     "output_type": "execute_result"
    }
   ],
   "source": [
    "widgets.DatetimePicker(description='Pick a Date and Time')"
   ]
  },
  {
   "cell_type": "markdown",
   "metadata": {},
   "source": [
    "### 1.8 Color Pickers\n"
   ]
  },
  {
   "cell_type": "markdown",
   "metadata": {},
   "source": [
    "Color Picker widgets, found within the `ipywidgets` package, provide an intuitive interface for selecting colors in Jupyter Notebooks. These widgets allow users to choose a specific color from a palette, or define one using RGB, Hex, or other common color codes. This feature is especially handy for customizing the aesthetics of visual elements within the notebook, such as plots, graphs, and other data visualizations. For instance, users can easily modify the color scheme of a chart to improve visibility, adhere to branding requirements, or simply enhance the visual appeal of their data presentations. The Color Picker widget streamlines the process of selecting and implementing colors, saving time and ensuring consistency across various visual elements. Its user-friendly interface supports both novice and experienced users in crafting more engaging and visually compelling data representations within their Jupyter Notebooks."
   ]
  },
  {
   "cell_type": "code",
   "execution_count": 21,
   "metadata": {},
   "outputs": [
    {
     "data": {
      "application/vnd.jupyter.widget-view+json": {
       "model_id": "4e34cb27ae3d4a6fb5470babc3e5688c",
       "version_major": 2,
       "version_minor": 0
      },
      "text/plain": [
       "ColorPicker(value='black', description='Pick a color')"
      ]
     },
     "execution_count": 21,
     "metadata": {},
     "output_type": "execute_result"
    }
   ],
   "source": [
    "widgets.ColorPicker(description='Pick a color')"
   ]
  },
  {
   "cell_type": "markdown",
   "metadata": {},
   "source": [
    "### 1.9 File Upload\n"
   ]
  },
  {
   "cell_type": "markdown",
   "metadata": {},
   "source": [
    "The File Upload widget in the `ipywidgets` package provides a convenient interface for uploading files into Jupyter Notebooks. Users can easily import data by selecting files from their local storage, which the widget then uploads and makes available for use within the notebook environment. The widget supports the uploading of multiple files at once and can handle various file types, including text files, CSVs, images, and more. This functionality is particularly beneficial when working with external datasets, images for processing, or any file-based input required for analysis. The File Upload widget not only simplifies the data import process but also enhances the notebook’s interactivity and usability, allowing for a smoother, more integrated data analysis workflow. Users can interactively select and upload the files they need without resorting to complex file handling code, making this widget an invaluable tool for data scientists, analysts, and researchers working in Jupyter Notebooks."
   ]
  },
  {
   "cell_type": "code",
   "execution_count": 22,
   "metadata": {},
   "outputs": [
    {
     "data": {
      "application/vnd.jupyter.widget-view+json": {
       "model_id": "f5b3c3093be142b093382b5f977b39b5",
       "version_major": 2,
       "version_minor": 0
      },
      "text/plain": [
       "FileUpload(value=(), description='Upload')"
      ]
     },
     "execution_count": 22,
     "metadata": {},
     "output_type": "execute_result"
    }
   ],
   "source": [
    "widgets.FileUpload(multiple=False)"
   ]
  },
  {
   "cell_type": "markdown",
   "metadata": {},
   "source": [
    "### 1.10 Output\n"
   ]
  },
  {
   "cell_type": "markdown",
   "metadata": {},
   "source": [
    "The Output widget in the `ipywidgets` package plays a pivotal role in managing the display of content within Jupyter Notebooks. It provides a flexible and interactive display area that can capture and present a wide range of content, including plots, prints, and widgets. This widget is particularly useful for dynamically updating and organizing the output generated by the notebook's cells, allowing for a cleaner and more structured presentation of results and visualizations. For instance, users can direct the output of specific code blocks to the Output widget, where it can be cleared, updated, or modified programmatically, without affecting the rest of the notebook's layout. By offering a dedicated space for managing and controlling displayed content, the Output widget enhances the notebook's interactivity and user experience, supporting the development of more sophisticated and interactive applications and dashboards within the Jupyter environment. Its ability to handle various content types and interactive features makes it an indispensable tool for anyone looking to create dynamic and responsive data analysis workflows in Jupyter Notebooks."
   ]
  },
  {
   "cell_type": "code",
   "execution_count": 23,
   "metadata": {},
   "outputs": [
    {
     "data": {
      "application/vnd.jupyter.widget-view+json": {
       "model_id": "ad9eda3a4f194fdfb0a911c7eaed5c06",
       "version_major": 2,
       "version_minor": 0
      },
      "text/plain": [
       "Output(layout=Layout(border_bottom='1px solid black', border_left='1px solid black', border_right='1px solid b…"
      ]
     },
     "execution_count": 23,
     "metadata": {},
     "output_type": "execute_result"
    }
   ],
   "source": [
    "wo = widgets.Output(\n",
    "    layout={'border': '1px solid black'}\n",
    ")\n",
    "with wo:\n",
    "    print('Hello world!')\n",
    "    display(iris.head(10))\n",
    "wo"
   ]
  },
  {
   "cell_type": "markdown",
   "metadata": {},
   "source": [
    "### 1.11 Layout"
   ]
  },
  {
   "cell_type": "markdown",
   "metadata": {},
   "source": [
    "The Layout widget in the `ipywidgets` package is a powerful tool designed to control the display and arrangement of other widgets within Jupyter Notebooks. It provides a suite of styling properties, including dimensions (width and height), margins, padding, border, and display style, which users can manipulate to customize the appearance and positioning of widgets on the page. This widget is crucial for building intuitive and visually appealing interfaces, as it allows for the precise control over the spatial organization and aesthetic presentation of interactive elements. For instance, users can define the size and alignment of sliders, buttons, or plots, and arrange them in a way that enhances the readability and usability of the notebook. The Layout widget essentially acts as a CSS-like styling mechanism directly within the notebook, offering a flexible and straightforward approach to designing sophisticated layouts for data analysis and visualization tasks. Its ability to facilitate the creation of professional-looking and well-organized interfaces makes the Layout widget an invaluable asset for crafting effective and engaging Jupyter Notebooks."
   ]
  },
  {
   "cell_type": "code",
   "execution_count": 24,
   "metadata": {},
   "outputs": [
    {
     "data": {
      "application/vnd.jupyter.widget-view+json": {
       "model_id": "9b6eecb32a8042eaa9db216c9b9e21fc",
       "version_major": 2,
       "version_minor": 0
      },
      "text/plain": [
       "Layout(border_bottom='solid 2px red', border_left='solid 2px red', border_right='solid 2px red', border_top='s…"
      ]
     },
     "execution_count": 24,
     "metadata": {},
     "output_type": "execute_result"
    }
   ],
   "source": [
    "wl = widgets.Layout(\n",
    "    border='solid 2px red',\n",
    "    margin='0 0 0 100px',\n",
    "    padding='0 0 0 100px'\n",
    ")\n",
    "wl"
   ]
  },
  {
   "cell_type": "markdown",
   "metadata": {},
   "source": [
    "## 2. Interactions\n"
   ]
  },
  {
   "cell_type": "markdown",
   "metadata": {},
   "source": [
    "### 2.1. Linking Widgets\n"
   ]
  },
  {
   "cell_type": "code",
   "execution_count": 25,
   "metadata": {},
   "outputs": [
    {
     "data": {
      "application/vnd.jupyter.widget-view+json": {
       "model_id": "a89c4bcc8de746ce919e9d44910075d9",
       "version_major": 2,
       "version_minor": 0
      },
      "text/plain": [
       "IntSlider(value=0, description='x')"
      ]
     },
     "metadata": {},
     "output_type": "display_data"
    },
    {
     "data": {
      "application/vnd.jupyter.widget-view+json": {
       "model_id": "b3ae66f78be44be281f3b36de967db6b",
       "version_major": 2,
       "version_minor": 0
      },
      "text/plain": [
       "IntSlider(value=0, description='y')"
      ]
     },
     "metadata": {},
     "output_type": "display_data"
    },
    {
     "data": {
      "application/vnd.jupyter.widget-view+json": {
       "model_id": "312c0b4f27744c528b3a5e977257f588",
       "version_major": 2,
       "version_minor": 0
      },
      "text/plain": [
       "FloatSlider(value=0.0, description='z')"
      ]
     },
     "metadata": {},
     "output_type": "display_data"
    },
    {
     "data": {
      "text/plain": [
       "Link(source=(IntSlider(value=0, description='y'), 'value'), target=(FloatSlider(value=0.0, description='z'), 'value'))"
      ]
     },
     "execution_count": 25,
     "metadata": {},
     "output_type": "execute_result"
    }
   ],
   "source": [
    "x = widgets.IntSlider(description='x')\n",
    "y = widgets.IntSlider(description='y')\n",
    "z = widgets.FloatSlider(description='z')\n",
    "display(x, y, z)\n",
    "widgets.jslink((x, 'value'), (y, 'value'))\n",
    "widgets.jslink((y, 'value'), (z, 'value'))"
   ]
  },
  {
   "cell_type": "markdown",
   "metadata": {},
   "source": [
    "### 2.2. Observing Changes"
   ]
  },
  {
   "cell_type": "code",
   "execution_count": null,
   "metadata": {},
   "outputs": [],
   "source": [
    "def f(x):\n",
    "    print(x)\n",
    "    \n",
    "widgets.interact(f, x=10);"
   ]
  },
  {
   "cell_type": "code",
   "execution_count": 27,
   "metadata": {},
   "outputs": [],
   "source": [
    "### 2.3. Widgets Events\n"
   ]
  },
  {
   "cell_type": "code",
   "execution_count": 28,
   "metadata": {},
   "outputs": [],
   "source": [
    "### 2.4. Button Clicks\n"
   ]
  },
  {
   "cell_type": "code",
   "execution_count": 29,
   "metadata": {},
   "outputs": [],
   "source": [
    "### 2.5. Button Clicks with Output\n"
   ]
  },
  {
   "cell_type": "code",
   "execution_count": 30,
   "metadata": {},
   "outputs": [],
   "source": [
    "### 2.6. Button Clicks with Output and Layout"
   ]
  },
  {
   "cell_type": "markdown",
   "metadata": {},
   "source": [
    "## 3. Widgets with Plots\n"
   ]
  },
  {
   "cell_type": "markdown",
   "metadata": {},
   "source": [
    "## 4. Widgets with Data\n"
   ]
  },
  {
   "cell_type": "markdown",
   "metadata": {},
   "source": [
    "## 5. Widgets with Functions"
   ]
  },
  {
   "cell_type": "markdown",
   "metadata": {},
   "source": [
    "## 6. Conclusion"
   ]
  },
  {
   "cell_type": "markdown",
   "metadata": {},
   "source": [
    "Widgets in Jupyter Notebooks are highly valuable tools for interactive computing, as they enable users to manipulate and visualize data in real-time. These graphical user interface elements, including sliders, text boxes, and buttons, facilitate the dynamic interaction between the user and the data, fostering a more intuitive and engaging analytical process. Widgets are particularly beneficial for educational purposes and exploratory data analysis, where immediate feedback and visual representations of data transformations are crucial. By providing a user-friendly interface to complex code, widgets simplify the process of parameter tuning and model evaluation, allowing users to focus on interpreting results and refining their analysis. Furthermore, widgets empower users to build interactive dashboards and applications directly within the notebook, enhancing the accessibility and functionality of their computational work."
   ]
  }
 ],
 "metadata": {
  "kernelspec": {
   "display_name": "Python 3",
   "language": "python",
   "name": "python3"
  },
  "language_info": {
   "codemirror_mode": {
    "name": "ipython",
    "version": 3
   },
   "file_extension": ".py",
   "mimetype": "text/x-python",
   "name": "python",
   "nbconvert_exporter": "python",
   "pygments_lexer": "ipython3",
   "version": "3.11.2"
  },
  "orig_nbformat": 4
 },
 "nbformat": 4,
 "nbformat_minor": 2
}
